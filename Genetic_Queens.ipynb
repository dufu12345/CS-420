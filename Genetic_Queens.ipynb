{
  "nbformat": 4,
  "nbformat_minor": 0,
  "metadata": {
    "colab": {
      "provenance": [],
      "authorship_tag": "ABX9TyMSKnLivNkg+mWat7rstJCW",
      "include_colab_link": true
    },
    "kernelspec": {
      "name": "python3",
      "display_name": "Python 3"
    },
    "language_info": {
      "name": "python"
    }
  },
  "cells": [
    {
      "cell_type": "markdown",
      "metadata": {
        "id": "view-in-github",
        "colab_type": "text"
      },
      "source": [
        "<a href=\"https://colab.research.google.com/github/alex-smith-uwec/CS-420/blob/main/Genetic_Queens.ipynb\" target=\"_parent\"><img src=\"https://colab.research.google.com/assets/colab-badge.svg\" alt=\"Open In Colab\"/></a>"
      ]
    },
    {
      "cell_type": "code",
      "source": [
        "import random\n",
        "import numpy as np\n",
        "import matplotlib.pyplot as plt\n",
        "import matplotlib.colors as mcolors"
      ],
      "metadata": {
        "id": "zKI9vT8RoIiz"
      },
      "execution_count": 1,
      "outputs": []
    },
    {
      "cell_type": "code",
      "source": [
        "def create_individual():\n",
        "    # Create a random individual\n",
        "    return random.sample(range(1, 9), 8)\n",
        "    # return [1] * 8\n",
        "\n",
        "def calculate_fitness(individual):\n",
        "    clashes = 0\n",
        "    for i in range(8):\n",
        "        for j in range(i + 1, 8):\n",
        "            # Check for clashes in rows and diagonals\n",
        "            if individual[i] == individual[j] or abs(individual[i] - individual[j]) == abs(i - j):\n",
        "                clashes += 1\n",
        "    return 28 - clashes\n",
        "\n",
        "def select_parent(population):\n",
        "    # Select a parent using tournament selection\n",
        "    tournament_size = 3\n",
        "    tournament = random.sample(population, tournament_size)\n",
        "    return max(tournament, key=lambda individual: calculate_fitness(individual))\n",
        "\n",
        "def crossover(parent1, parent2):\n",
        "    # Perform crossover between two parents\n",
        "    crossover_point = random.randint(1, 7)\n",
        "    child1 = parent1[:crossover_point] + parent2[crossover_point:]\n",
        "    child2 = parent2[:crossover_point] + parent1[crossover_point:]\n",
        "    return child1, child2\n",
        "\n",
        "def mutate(individual):\n",
        "    # Perform mutation on an individual\n",
        "    mutation_point = random.randint(0, 7)\n",
        "    new_value = random.randint(1, 8)\n",
        "    individual[mutation_point] = new_value\n"
      ],
      "metadata": {
        "id": "jhtfp2f9oNu_"
      },
      "execution_count": 6,
      "outputs": []
    },
    {
      "cell_type": "markdown",
      "source": [
        "# Mini noodling"
      ],
      "metadata": {
        "id": "CO0uddEgppRE"
      }
    },
    {
      "cell_type": "code",
      "source": [
        "create_individual()"
      ],
      "metadata": {
        "colab": {
          "base_uri": "https://localhost:8080/"
        },
        "id": "NDMkukkFpxOh",
        "outputId": "5bc129e1-3129-40b0-acb1-d0ff1d7494ed"
      },
      "execution_count": 9,
      "outputs": [
        {
          "output_type": "execute_result",
          "data": {
            "text/plain": [
              "[2, 5, 1, 8, 3, 6, 7, 4]"
            ]
          },
          "metadata": {},
          "execution_count": 9
        }
      ]
    },
    {
      "cell_type": "code",
      "source": [
        "pop=[create_individual() for _k in range(5)]\n",
        "pop"
      ],
      "metadata": {
        "colab": {
          "base_uri": "https://localhost:8080/"
        },
        "id": "pFAfBr90pQNX",
        "outputId": "cb5cf711-9386-4f8c-d087-30498a064212"
      },
      "execution_count": 38,
      "outputs": [
        {
          "output_type": "execute_result",
          "data": {
            "text/plain": [
              "[[7, 1, 2, 5, 8, 3, 6, 4],\n",
              " [2, 1, 7, 5, 6, 4, 8, 3],\n",
              " [2, 4, 3, 6, 1, 5, 7, 8],\n",
              " [4, 2, 1, 7, 5, 8, 3, 6],\n",
              " [7, 3, 8, 4, 2, 1, 5, 6]]"
            ]
          },
          "metadata": {},
          "execution_count": 38
        }
      ]
    },
    {
      "cell_type": "code",
      "source": [
        "[calculate_fitness(i) for i in pop]"
      ],
      "metadata": {
        "colab": {
          "base_uri": "https://localhost:8080/"
        },
        "id": "xb_ZFfcMp5Ti",
        "outputId": "dc0342c6-2681-42d6-ec19-63d1eff96acf"
      },
      "execution_count": 39,
      "outputs": [
        {
          "output_type": "execute_result",
          "data": {
            "text/plain": [
              "[23, 19, 21, 22, 25]"
            ]
          },
          "metadata": {},
          "execution_count": 39
        }
      ]
    },
    {
      "cell_type": "code",
      "source": [
        "select_parent(pop)"
      ],
      "metadata": {
        "colab": {
          "base_uri": "https://localhost:8080/"
        },
        "id": "RTaoqz9KqSz2",
        "outputId": "292205e4-9e10-4fe9-c679-eae61ee86d12"
      },
      "execution_count": 58,
      "outputs": [
        {
          "output_type": "execute_result",
          "data": {
            "text/plain": [
              "[7, 3, 8, 4, 2, 1, 5, 6]"
            ]
          },
          "metadata": {},
          "execution_count": 58
        }
      ]
    },
    {
      "cell_type": "code",
      "source": [
        "parent1=select_parent(pop)\n",
        "parent2=select_parent(pop)\n",
        "\n",
        "print(f\"Parent1: {parent1}\\nParent2: {parent2}\")"
      ],
      "metadata": {
        "colab": {
          "base_uri": "https://localhost:8080/"
        },
        "id": "pWdR9qmJrw9w",
        "outputId": "58a44b56-9f97-499d-f313-4faa2f31b6c2"
      },
      "execution_count": 61,
      "outputs": [
        {
          "output_type": "stream",
          "name": "stdout",
          "text": [
            "Parent1: [7, 1, 2, 5, 8, 3, 6, 4]\n",
            "Parent2: [4, 2, 1, 7, 5, 8, 3, 6]\n"
          ]
        }
      ]
    },
    {
      "cell_type": "code",
      "source": [
        "crossover(parent1,parent2)"
      ],
      "metadata": {
        "colab": {
          "base_uri": "https://localhost:8080/"
        },
        "id": "6UM4HPvMtENZ",
        "outputId": "f66d21d7-7abe-4b3e-f3ee-2a69ba9f54b0"
      },
      "execution_count": 62,
      "outputs": [
        {
          "output_type": "execute_result",
          "data": {
            "text/plain": [
              "([7, 2, 1, 7, 5, 8, 3, 6], [4, 1, 2, 5, 8, 3, 6, 4])"
            ]
          },
          "metadata": {},
          "execution_count": 62
        }
      ]
    },
    {
      "cell_type": "code",
      "source": [
        "alex=create_individual()\n",
        "print(alex)\n",
        "\n",
        "mutate(alex)\n",
        "print(alex)"
      ],
      "metadata": {
        "colab": {
          "base_uri": "https://localhost:8080/"
        },
        "id": "W8qK0mzuu1VU",
        "outputId": "702c3c73-7154-4f48-86f1-8c9794b5ec43"
      },
      "execution_count": 74,
      "outputs": [
        {
          "output_type": "stream",
          "name": "stdout",
          "text": [
            "[6, 5, 3, 7, 2, 1, 8, 4]\n",
            "[6, 2, 3, 7, 2, 1, 8, 4]\n"
          ]
        }
      ]
    },
    {
      "cell_type": "markdown",
      "source": [
        "# Putting it all together"
      ],
      "metadata": {
        "id": "dbJ7lYh_v-uF"
      }
    },
    {
      "cell_type": "code",
      "execution_count": 88,
      "metadata": {
        "id": "670c4GGzuQme"
      },
      "outputs": [],
      "source": [
        "def genetic_algorithm(population_size, generations):\n",
        "    population = [create_individual() for _ in range(population_size)]\n",
        "    best_fitnesses = []\n",
        "    worst_fitnesses = []\n",
        "\n",
        "    for generation in range(generations):\n",
        "        new_population = []\n",
        "\n",
        "        while len(new_population) < population_size:\n",
        "            parent1 = select_parent(population)\n",
        "            parent2 = select_parent(population)\n",
        "\n",
        "            child1, child2 = crossover(parent1, parent2)\n",
        "\n",
        "            mutate(child1)\n",
        "            mutate(child2)\n",
        "\n",
        "            new_population.extend([child1, child2])\n",
        "\n",
        "        population = new_population\n",
        "\n",
        "        if generation % 10 == 0:\n",
        "            fitness_values = [calculate_fitness(individual) for individual in population]\n",
        "            best_fitness = max(fitness_values)\n",
        "            worst_fitness = min(fitness_values)\n",
        "            best_fitnesses.append(best_fitness)\n",
        "            worst_fitnesses.append(worst_fitness)\n",
        "\n",
        "        if best_fitness == 28:\n",
        "            break\n",
        "\n",
        "    best_individual = max(population, key=lambda individual: calculate_fitness(individual))\n",
        "    best_fitness = calculate_fitness(best_individual)\n",
        "\n",
        "    if len(best_fitnesses) != len(worst_fitnesses):\n",
        "        best_fitnesses.append(best_fitness)\n",
        "        worst_fitnesses.append(worst_fitness)\n",
        "\n",
        "    return best_individual, best_fitness, best_fitnesses, worst_fitnesses\n",
        "\n"
      ]
    },
    {
      "cell_type": "code",
      "source": [
        "# Run the genetic algorithm\n",
        "population_size = 100\n",
        "generations = 1000\n",
        "\n",
        "best_individual, best_fitness, best_fitnesses, worst_fitnesses = genetic_algorithm(population_size, generations)\n",
        "\n",
        "print(\"Best Individual:\", best_individual)\n",
        "print(\"Best Fitness:\", best_fitness)\n",
        "\n",
        "# Plot the best and worst fitness values every 10 generations\n",
        "generations_range = range(0, generations + 1, 10)\n",
        "plt.plot(generations_range[:len(best_fitnesses)], best_fitnesses, label='Best Fitness')\n",
        "plt.plot(generations_range[:len(worst_fitnesses)], worst_fitnesses, label='Worst Fitness')\n",
        "plt.xlabel('Generations')\n",
        "plt.ylabel('Fitness')\n",
        "plt.title('Best and Worst Fitness Values')\n",
        "plt.legend()\n",
        "plt.show()\n",
        "\n",
        "checkerboard = np.zeros((8, 8), dtype=int)\n",
        "for i in range(8):\n",
        "    for j in range(8):\n",
        "        if (i+j)%2 == 0:\n",
        "            checkerboard[i, j] = 1\n",
        "\n",
        "# Set the locations to red\n",
        "for col, row in enumerate(best_individual):\n",
        "    checkerboard[row - 1, col] = 2\n",
        "\n",
        "# Create a color map\n",
        "cmap = mcolors.ListedColormap(['white', 'black', 'red'])\n",
        "# Plot the checkerboard\n",
        "plt.imshow(checkerboard, cmap=cmap)\n",
        "\n",
        "# Draw a black border by creating a rectangle from lines\n",
        "plt.plot([-0.5, 7.5, 7.5, -0.5, -0.5], [-0.5, -0.5, 7.5, 7.5, -0.5], color='black', linewidth=4)\n",
        "\n",
        "\n",
        "\n",
        "# Hide the grid lines\n",
        "plt.grid(False)\n",
        "\n",
        "# Hide the axes\n",
        "plt.axis('off')\n",
        "\n",
        "plt.show()\n"
      ],
      "metadata": {
        "colab": {
          "base_uri": "https://localhost:8080/",
          "height": 895
        },
        "id": "Rgy64s1IwJjB",
        "outputId": "5a79d13a-9c0d-4ca5-8b67-22096392126a"
      },
      "execution_count": 90,
      "outputs": [
        {
          "output_type": "stream",
          "name": "stdout",
          "text": [
            "Best Individual: [4, 2, 7, 5, 1, 8, 6, 3]\n",
            "Best Fitness: 28\n"
          ]
        },
        {
          "output_type": "display_data",
          "data": {
            "text/plain": [
              "<Figure size 640x480 with 1 Axes>"
            ],
            "image/png": "[encoded data removed]"
          },
          "metadata": {}
        },
        {
          "output_type": "display_data",
          "data": {
            "text/plain": [
              "<Figure size 640x480 with 1 Axes>"
            ],
            "image/png": "[encoded data removed]"
          },
          "metadata": {}
        }
      ]
    },
    {
      "cell_type": "code",
      "source": [],
      "metadata": {
        "id": "1p0a8rYxuWNT"
      },
      "execution_count": null,
      "outputs": []
    }
  ]
}