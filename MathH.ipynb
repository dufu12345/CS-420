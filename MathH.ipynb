{
  "cells": [
    {
      "cell_type": "markdown",
      "metadata": {
        "id": "view-in-github",
        "colab_type": "text"
      },
      "source": [
        "<a href=\"https://colab.research.google.com/github/alex-smith-uwec/CS-420/blob/main/MathH.ipynb\" target=\"_parent\"><img src=\"https://colab.research.google.com/assets/colab-badge.svg\" alt=\"Open In Colab\"/></a>"
      ]
    },
    {
      "cell_type": "markdown",
      "metadata": {
        "id": "VXZkfWLmzTID"
      },
      "source": [
        "# Start up functions to calculate MATHH read in from h.py"
      ]
    },
    {
      "cell_type": "code",
      "source": [
        "from google.colab import drive\n",
        "drive.mount('/content/drive')"
      ],
      "metadata": {
        "colab": {
          "base_uri": "https://localhost:8080/"
        },
        "id": "r5le1cVM2FX8",
        "outputId": "d9edc3de-33bb-44be-8192-f7edd2d030b9"
      },
      "execution_count": null,
      "outputs": [
        {
          "output_type": "stream",
          "name": "stdout",
          "text": [
            "Mounted at /content/drive\n"
          ]
        }
      ]
    },
    {
      "cell_type": "code",
      "source": [
        "import pandas as pd\n",
        "import numpy as np\n",
        "import inspect\n",
        "import sys\n",
        "\n",
        "mypath='/content/drive/MyDrive/Placement/'"
      ],
      "metadata": {
        "id": "UKT5qQLDejLf"
      },
      "execution_count": null,
      "outputs": []
    },
    {
      "cell_type": "code",
      "source": [
        "with open(mypath+'/h.py', 'r') as file:\n",
        "    h_funcs = file.read()\n",
        "exec(h_funcs)\n",
        "\n",
        "functions = [name for name, obj in inspect.getmembers(sys.modules[__name__]) if inspect.isfunction(obj)]\n",
        "functions"
      ],
      "metadata": {
        "colab": {
          "base_uri": "https://localhost:8080/"
        },
        "id": "qe-RIuw7euil",
        "outputId": "b85ee48d-761a-4ce6-90b3-3587a03516ac"
      },
      "execution_count": null,
      "outputs": [
        {
          "output_type": "execute_result",
          "data": {
            "text/plain": [
              "['F_mpt',\n",
              " 'H_both',\n",
              " 'H_mact',\n",
              " 'H_mpt',\n",
              " 'H_none',\n",
              " 'apply_model',\n",
              " 'process_dataframe']"
            ]
          },
          "metadata": {},
          "execution_count": 3
        }
      ]
    },
    {
      "cell_type": "code",
      "source": [
        "#@title\n",
        "#useful widget to remember variable names and function name conventions\n",
        "Setup = [\n",
        "    ['H_none', 1, 1, 0, 0, 1],\n",
        "    ['H_mpt', 1, 1, 0, 1, 1],\n",
        "    ['H_mact', 1, 1, 1, 0, 1],\n",
        "    ['H_both', 1, 1, 1, 1, 1]\n",
        "]\n",
        "columns = ['', 'gpa', 'mgpa', 'mact', 'mpt', 'sen']\n",
        "Setup = pd.DataFrame(Setup, columns=columns)\n",
        "widgit_title = \"Widget to remember name conventions\\nH is for 'Holistic'\"\n",
        "print(widgit_title)\n",
        "print(Setup.to_string(index=False))"
      ],
      "metadata": {
        "colab": {
          "base_uri": "https://localhost:8080/"
        },
        "cellView": "form",
        "id": "1iDSSia6fdfH",
        "outputId": "bd123eb2-499e-4b6b-8d55-67dbc960d00a"
      },
      "execution_count": null,
      "outputs": [
        {
          "output_type": "stream",
          "name": "stdout",
          "text": [
            "Widget to remember name conventions\n",
            "H is for 'Holistic'\n",
            "        gpa  mgpa  mact  mpt  sen\n",
            "H_none    1     1     0    0    1\n",
            " H_mpt    1     1     0    1    1\n",
            "H_mact    1     1     1    0    1\n",
            "H_both    1     1     1    1    1\n"
          ]
        }
      ]
    },
    {
      "cell_type": "markdown",
      "metadata": {
        "id": "N1IkImxD0HGZ"
      },
      "source": [
        "# Import from Excel and apply model"
      ]
    },
    {
      "cell_type": "code",
      "execution_count": null,
      "metadata": {
        "id": "dj-A26DNiDMx"
      },
      "outputs": [],
      "source": [
        "columns = ['Emplid','GPA','MACT','MGPA','MFUND','AALG','TAG','SEN','Event Meeting Date','Review date','Level']  # Specify the column names you want to import. Column names must be present in source spreadsheet\n",
        "\n",
        "\n",
        "# df = pd.read_excel(mypath+'Week1.xlsx', usecols=columns)\n",
        "# df = pd.read_excel(mypath+'Week2.xlsx', usecols=columns)\n",
        "#df = pd.read_excel(mypath+'Barron.xlsx', sheet_name='June 13', usecols=columns)\n",
        "# df = pd.read_excel('/content/drive/MyDrive/Placement/Math Review 2023--Main Campus.xlsx', sheet_name='June 19-23', usecols=columns)\n",
        "df = pd.read_excel('/content/drive/MyDrive/Placement/Math Review 2023--Main Campus.xlsx', sheet_name='June 26-30', usecols=columns)\n",
        "\n",
        "\n",
        "#Next create a column MPT by applying F_mpt\n",
        "df['MPT'] = df.apply(lambda row: F_mpt(row['MFUND'], row['AALG'], row['TAG']), axis=1)\n",
        "\n",
        "\n",
        "# https://universityofwieauclaire-my.sharepoint.com/:x:/g/personal/brisbia_uwec_edu/EZ3WpzF_2WJMg_gwp4TDMRoBj4MpcfksUS6i4syzA_T1bA?e=Qdkd0C\n",
        "\n"
      ]
    },
    {
      "cell_type": "code",
      "source": [
        "dg = process_dataframe(df)\n",
        "dg['MATHH'] = dg.apply(apply_model, axis=1)\n",
        "\n",
        "##Check to see if any past entries have changed as a result of updated placement scores\n",
        "for i in dg.index:\n",
        "    if dg.loc[i, 'MATHH'] == df.loc[i, 'Level']:\n",
        "        dg.loc[i, 'Review date'] = df.loc[i, 'Review date']\n",
        "    else:\n",
        "        dg.loc[i, 'Review date'] = pd.Timestamp.today().strftime('%m/%d/%Y')\n",
        "\n"
      ],
      "metadata": {
        "id": "fQdXjAlQ5uso"
      },
      "execution_count": null,
      "outputs": []
    },
    {
      "cell_type": "code",
      "source": [
        "dg"
      ],
      "metadata": {
        "id": "95NDo_sxpWl-"
      },
      "execution_count": null,
      "outputs": []
    },
    {
      "cell_type": "code",
      "execution_count": null,
      "metadata": {
        "id": "6ZulPQJjPoQc"
      },
      "outputs": [],
      "source": [
        "#drop 'Level' before exporting to excel to prevent confusion with newly calculated MATHH\n",
        "dg.drop(['Level','Event Meeting Date'], axis=1, inplace=True)\n",
        "\n",
        "# dg.to_excel(mypath+'MATHH.xlsx', sheet_name='June 19-23')\n",
        "\n",
        "##With syntax below, we can write a new tab for each day and retain the existing ones\n",
        "existing_file = mypath+'MATHH.xlsx'\n",
        "# Load the existing file into a DataFrame\n",
        "dg_existing = pd.read_excel(existing_file)\n",
        "# Create a new DataFrame with the data you want to write to a new sheet\n",
        "# Define the name of the new sheet in the existing file\n",
        "new_sheet_name = 'June 26-30+'\n",
        "\n",
        "# Write the new DataFrame to a new sheet in the existing Excel file\n",
        "with pd.ExcelWriter(existing_file, engine='openpyxl', mode='a') as writer:\n",
        "    dg.to_excel(writer, sheet_name=new_sheet_name, index=False)"
      ]
    },
    {
      "cell_type": "code",
      "source": [],
      "metadata": {
        "id": "u84s0MVAu4mF"
      },
      "execution_count": null,
      "outputs": []
    },
    {
      "cell_type": "markdown",
      "source": [
        "# Some information from training data"
      ],
      "metadata": {
        "id": "wrE-r1fDu7YM"
      }
    },
    {
      "cell_type": "code",
      "execution_count": null,
      "metadata": {
        "colab": {
          "base_uri": "https://localhost:8080/",
          "height": 493
        },
        "id": "beCjLPJMEKTS",
        "outputId": "d07d1c33-0f91-440b-db2b-21ec568600c6",
        "cellView": "form"
      },
      "outputs": [
        {
          "output_type": "display_data",
          "data": {
            "text/plain": [
              "<Figure size 640x480 with 2 Axes>"
            ],
            "image/png": "[encoded data removed]"
          },
          "metadata": {}
        }
      ],
      "source": [
        "#@title\n",
        "gpa_range = np.linspace(0, 4, 100)\n",
        "sen_range = np.linspace(0, 10, 100)\n",
        "\n",
        "# Create a meshgrid of inputs\n",
        "gpa_grid, sen_grid = np.meshgrid(gpa_range, sen_range)\n",
        "\n",
        "# Evaluate the function for each combination of inputs\n",
        "result = np.vectorize(H_none)(gpa_grid, gpa_grid, sen_grid)\n",
        "\n",
        "plt.contourf(sen_grid, gpa_grid, result, levels=range(1, 8), cmap='jet')\n",
        "\n",
        "plt.colorbar(label='MATHH')\n",
        "plt.xlabel('SEN')\n",
        "plt.ylabel('GPA_bar')\n",
        "plt.title('Transcript Review Placement\\n no ACT and no MPT (H_none)')\n",
        "plt.show()\n"
      ]
    },
    {
      "cell_type": "code",
      "execution_count": null,
      "metadata": {
        "colab": {
          "base_uri": "https://localhost:8080/",
          "height": 452
        },
        "id": "JumqEd1pN7jB",
        "outputId": "e06325ad-12da-4984-9977-2f5ae3690ceb",
        "cellView": "form"
      },
      "outputs": [
        {
          "output_type": "display_data",
          "data": {
            "text/plain": [
              "<Figure size 640x480 with 1 Axes>"
            ],
            "image/png": "[encoded data removed]"
          },
          "metadata": {}
        }
      ],
      "source": [
        "#@title\n",
        "#  Select the 'MATHH' column where Type is 'h_none'\n",
        "None_data =dg.loc[dg['Type'] == 'h_none', 'MATHH']\n",
        "\n",
        "# Select the 'MATHH-NN' column where Type is 'Type3A'\n",
        "MPT_data = dg.loc[dg['Type'] == 'h_mpt', 'MATHH']\n",
        "\n",
        "# Select the 'MATHH-NN' column where Type is 'Type6A'\n",
        "MACT_data = dg.loc[dg['Type'] == 'h_mact', 'MATHH']\n",
        "\n",
        "# Select the 'MATHH-NN' column where Type is 'Type7A'\n",
        "Both_data = dg.loc[dg['Type'] == 'h_both', 'MATHH']\n",
        "\n",
        "All_data=dg.loc[pd.to_numeric(dg['MATHH'], errors='coerce').notnull(), 'MATHH']\n",
        "\n",
        "# Create a list of the selected data\n",
        "data = [None_data, MACT_data, MPT_data, Both_data,All_data]\n",
        "\n",
        "# Create a box plot using the selected data\n",
        "plt.boxplot(data, labels=['None', 'MACT','MPT','MACT & MPT', 'ALL'])\n",
        "# plt.xlabel('Type')\n",
        "plt.ylabel('MATHH')\n",
        "plt.title('Box Plot: MATHH evaluated on training data')\n",
        "plt.show()"
      ]
    },
    {
      "cell_type": "code",
      "execution_count": null,
      "metadata": {
        "id": "rXKdqOZ5GbP1"
      },
      "outputs": [],
      "source": []
    }
  ],
  "metadata": {
    "colab": {
      "provenance": [],
      "collapsed_sections": [
        "wrE-r1fDu7YM"
      ],
      "include_colab_link": true
    },
    "kernelspec": {
      "display_name": "Python 3 (ipykernel)",
      "language": "python",
      "name": "python3"
    },
    "language_info": {
      "codemirror_mode": {
        "name": "ipython",
        "version": 3
      },
      "file_extension": ".py",
      "mimetype": "text/x-python",
      "name": "python",
      "nbconvert_exporter": "python",
      "pygments_lexer": "ipython3",
      "version": "3.9.13"
    }
  },
  "nbformat": 4,
  "nbformat_minor": 0
}